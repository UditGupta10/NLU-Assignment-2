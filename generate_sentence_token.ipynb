{
 "cells": [
  {
   "cell_type": "code",
   "execution_count": 45,
   "metadata": {},
   "outputs": [],
   "source": [
    "from nltk.corpus import gutenberg as gb\n",
    "from numpy import append, ceil, random\n",
    "from keras.preprocessing.text import Tokenizer\n",
    "from keras.preprocessing.sequence import pad_sequences\n",
    "from keras.models import load_model"
   ]
  },
  {
   "cell_type": "code",
   "execution_count": 41,
   "metadata": {},
   "outputs": [],
   "source": [
    "# generate a sequence from a language model\n",
    "def generate_seq(model, tokenizer, max_length, seed_text, n_words):\n",
    "\tin_text = seed_text\n",
    "\t# generate a fixed number of words\n",
    "\tfor _ in range(n_words):\n",
    "\t\t# encode the text as integer\n",
    "\t\tencoded = tokenizer.texts_to_sequences([in_text])[0]\n",
    "\t\t# pre-pad sequences to a fixed length\n",
    "\t\tencoded = pad_sequences([encoded], maxlen=max_length, padding='pre')\n",
    "\t\t# predict probabilities for each word\n",
    "\t\tyhat = model.predict_classes(encoded, verbose=0)\n",
    "\t\t# map predicted word index to word\n",
    "\t\tout_word = ''\n",
    "\t\tfor word, index in tokenizer.word_index.items():\n",
    "\t\t\tif index == yhat:\n",
    "\t\t\t\tout_word = word\n",
    "\t\t\t\tbreak\n",
    "\t\t# append to input\n",
    "\t\tin_text += ' ' + out_word\n",
    "\treturn in_text"
   ]
  },
  {
   "cell_type": "code",
   "execution_count": 42,
   "metadata": {},
   "outputs": [],
   "source": [
    "temp = gb.fileids()\n",
    "temp_length = len(temp)\n",
    "train_set = temp[: int(ceil(0.6*temp_length))]\n",
    "dev_set = temp[int(ceil(0.6*temp_length)) : int(ceil(0.8*temp_length))]\n",
    "test_set = temp[int(ceil(0.8*temp_length)):]\n",
    "gb_sent_train = gb.sents('burgess-busterbrown.txt')\n",
    "gb_sents_train = []\n",
    "for sent3 in gb_sent_train:\n",
    "    sent3 = list(filter(lambda a: a not in (\"``\",\"''\",\".\",\"[\",\"]\",\",\",\":\",\";\",\"--\",\"-\",\"?\",\"-\",\"`\",\"'\",\"s\",\"@\",\"#\",\"$\",\"%\",\"(\",\")\",\"{\",\"}\",\"\\\"\"), sent3))\n",
    "    sent3 = [x.lower() for x in sent3]\n",
    "    sent3 = ['<s>'] + sent3 + ['</s>']\n",
    "    gb_sents_train.append(sent3)"
   ]
  },
  {
   "cell_type": "code",
   "execution_count": 43,
   "metadata": {},
   "outputs": [],
   "source": [
    "t = Tokenizer(oov_token='<unk>', filters='!\"#$%&(),*+-./:;<=>?@[\\\\]^_`{|}~\\t\\r\\n\\'')\n",
    "t.fit_on_texts(gb_sents_train)\n",
    "max_length = 10"
   ]
  },
  {
   "cell_type": "code",
   "execution_count": 58,
   "metadata": {},
   "outputs": [
    {
     "name": "stdout",
     "output_type": "stream",
     "text": [
      "while he sat there trying to make up his mind what would taste best he was listening to the sounds\n"
     ]
    }
   ],
   "source": [
    "#to generate sentences with different seed texts\n",
    "r = random.randint(3)\n",
    "if(r==0):\n",
    "    #provided seed text, generates a complete sentence\n",
    "    print(generate_seq(load_model('word_lstm_2.h5'), t, max_length-1, 'buster bear yawned as he lay on his comfortable', 10))\n",
    "elif(r==1):\n",
    "    print(generate_seq(load_model('word_lstm_2.h5'), t, max_length-1, 'then he walked over to a big pine tree', 10))\n",
    "else:\n",
    "    print(generate_seq(load_model('word_lstm_2.h5'), t, max_length-1, 'while he sat there trying to make up his', 11))"
   ]
  },
  {
   "cell_type": "code",
   "execution_count": null,
   "metadata": {},
   "outputs": [],
   "source": []
  }
 ],
 "metadata": {
  "kernelspec": {
   "display_name": "Python 3",
   "language": "python",
   "name": "python3"
  },
  "language_info": {
   "codemirror_mode": {
    "name": "ipython",
    "version": 3
   },
   "file_extension": ".py",
   "mimetype": "text/x-python",
   "name": "python",
   "nbconvert_exporter": "python",
   "pygments_lexer": "ipython3",
   "version": "3.6.4"
  }
 },
 "nbformat": 4,
 "nbformat_minor": 2
}
